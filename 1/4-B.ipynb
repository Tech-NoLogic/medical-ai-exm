{
 "cells": [
  {
   "cell_type": "markdown",
   "metadata": {},
   "source": [
    "4. Mini-project\n",
    "\n",
    "B"
   ]
  },
  {
   "cell_type": "code",
   "execution_count": 1,
   "metadata": {},
   "outputs": [],
   "source": [
    "import torch as th\n",
    "from torch.utils.data import DataLoader\n",
    "import torchvision\n",
    "import matplotlib.pyplot as plt\n",
    "import numpy as np\n",
    "\n",
    "from model.CNN import CNN"
   ]
  },
  {
   "cell_type": "code",
   "execution_count": 2,
   "metadata": {},
   "outputs": [],
   "source": [
    "train_ds = torchvision.datasets.FashionMNIST(\n",
    "    root = \"data\", download=False, train=True, transform=torchvision.transforms.ToTensor()\n",
    "    )\n",
    "test_ds = torchvision.datasets.FashionMNIST(\n",
    "    root = \"data\", download=False, train=False, transform=torchvision.transforms.ToTensor()\n",
    "    )"
   ]
  },
  {
   "cell_type": "code",
   "execution_count": 3,
   "metadata": {},
   "outputs": [
    {
     "name": "stdout",
     "output_type": "stream",
     "text": [
      "Dataset FashionMNIST\n",
      "    Number of datapoints: 60000\n",
      "    Root location: data\n",
      "    Split: Train\n",
      "    StandardTransform\n",
      "Transform: ToTensor()\n"
     ]
    }
   ],
   "source": [
    "print(train_ds)\n",
    "\n",
    "batch_size = 10\n",
    "\n",
    "train_dataloader = DataLoader(train_ds, batch_size=batch_size)\n",
    "test_dataloader = DataLoader(test_ds, batch_size=batch_size)"
   ]
  },
  {
   "cell_type": "code",
   "execution_count": 4,
   "metadata": {},
   "outputs": [
    {
     "name": "stdout",
     "output_type": "stream",
     "text": [
      "6000\n"
     ]
    }
   ],
   "source": [
    "print(len(train_dataloader))\n",
    "it = iter(train_dataloader)"
   ]
  },
  {
   "cell_type": "code",
   "execution_count": 5,
   "metadata": {},
   "outputs": [
    {
     "name": "stdout",
     "output_type": "stream",
     "text": [
      "<class 'torch.Tensor'> <class 'torch.Tensor'>\n",
      "tensor(9)\n",
      "types: 10\n",
      "b: 10, c: 1, h: 28, w: 28\n"
     ]
    },
    {
     "data": {
      "image/png": "[encoded data removed]",
      "text/plain": [
       "<Figure size 640x480 with 1 Axes>"
      ]
     },
     "metadata": {},
     "output_type": "display_data"
    }
   ],
   "source": [
    "X, y = next(it)\n",
    "print(type(X), type(y))\n",
    "plt.imshow(torchvision.transforms.ToPILImage()(X[0].squeeze()), cmap=\"gray\")\n",
    "print(y[0])\n",
    "\n",
    "types = len(set([i.item() for _, y in train_dataloader for i in y]))\n",
    "print(f\"types: {types}\")\n",
    "\n",
    "b, c, h, w = X.size()\n",
    "print(f\"b: {b}, c: {c}, h: {h}, w: {w}\")"
   ]
  },
  {
   "cell_type": "code",
   "execution_count": 6,
   "metadata": {},
   "outputs": [],
   "source": [
    "model = CNN(c, types)"
   ]
  },
  {
   "cell_type": "code",
   "execution_count": 7,
   "metadata": {},
   "outputs": [
    {
     "data": {
      "text/plain": [
       "CNN(\n",
       "  (net): Sequential(\n",
       "    (0): Conv2d(1, 6, kernel_size=(5, 5), stride=(1, 1))\n",
       "    (1): ReLU()\n",
       "    (2): AvgPool2d(kernel_size=2, stride=2, padding=0)\n",
       "    (3): Conv2d(6, 16, kernel_size=(5, 5), stride=(1, 1))\n",
       "    (4): ReLU()\n",
       "    (5): AvgPool2d(kernel_size=2, stride=2, padding=0)\n",
       "    (6): Flatten(start_dim=1, end_dim=-1)\n",
       "    (7): Linear(in_features=256, out_features=120, bias=True)\n",
       "    (8): ReLU()\n",
       "    (9): Linear(in_features=120, out_features=84, bias=True)\n",
       "    (10): ReLU()\n",
       "    (11): Linear(in_features=84, out_features=10, bias=True)\n",
       "  )\n",
       ")"
      ]
     },
     "execution_count": 7,
     "metadata": {},
     "output_type": "execute_result"
    }
   ],
   "source": [
    "device = \"cuda\" if th.cuda.is_available() else \"cpu\"\n",
    "optimizer = th.optim.SGD(model.parameters(), lr=1e-3, momentum=0.9)\n",
    "epochs = 10\n",
    "loss_fn = th.nn.CrossEntropyLoss()\n",
    "\n",
    "model.to(device)"
   ]
  },
  {
   "cell_type": "code",
   "execution_count": 8,
   "metadata": {},
   "outputs": [
    {
     "name": "stdout",
     "output_type": "stream",
     "text": [
      "epoch: 0\n"
     ]
    },
    {
     "name": "stdout",
     "output_type": "stream",
     "text": [
      "loss:2.242641 [10000 / 60000]\n",
      "loss:0.641759 [20000 / 60000]\n",
      "loss:0.874264 [30000 / 60000]\n",
      "loss:1.526585 [40000 / 60000]\n",
      "loss:0.619898 [50000 / 60000]\n",
      "loss:0.352484 [60000 / 60000]\n",
      "epoch: 1\n",
      "loss:1.061969 [10000 / 60000]\n",
      "loss:0.459666 [20000 / 60000]\n",
      "loss:0.637282 [30000 / 60000]\n",
      "loss:1.424178 [40000 / 60000]\n",
      "loss:0.451333 [50000 / 60000]\n",
      "loss:0.248811 [60000 / 60000]\n",
      "epoch: 2\n",
      "loss:0.853645 [10000 / 60000]\n",
      "loss:0.384401 [20000 / 60000]\n",
      "loss:0.534696 [30000 / 60000]\n",
      "loss:0.999536 [40000 / 60000]\n",
      "loss:0.368034 [50000 / 60000]\n",
      "loss:0.199707 [60000 / 60000]\n",
      "epoch: 3\n",
      "loss:0.757039 [10000 / 60000]\n",
      "loss:0.410642 [20000 / 60000]\n",
      "loss:0.406431 [30000 / 60000]\n",
      "loss:0.817898 [40000 / 60000]\n",
      "loss:0.337144 [50000 / 60000]\n",
      "loss:0.179391 [60000 / 60000]\n",
      "epoch: 4\n",
      "loss:0.743850 [10000 / 60000]\n",
      "loss:0.436317 [20000 / 60000]\n",
      "loss:0.388376 [30000 / 60000]\n",
      "loss:0.718061 [40000 / 60000]\n",
      "loss:0.288389 [50000 / 60000]\n",
      "loss:0.158783 [60000 / 60000]\n",
      "epoch: 5\n",
      "loss:0.700962 [10000 / 60000]\n",
      "loss:0.460149 [20000 / 60000]\n",
      "loss:0.335442 [30000 / 60000]\n",
      "loss:0.676386 [40000 / 60000]\n",
      "loss:0.238178 [50000 / 60000]\n",
      "loss:0.134176 [60000 / 60000]\n",
      "epoch: 6\n",
      "loss:0.656300 [10000 / 60000]\n",
      "loss:0.444937 [20000 / 60000]\n",
      "loss:0.368946 [30000 / 60000]\n",
      "loss:0.609244 [40000 / 60000]\n",
      "loss:0.243200 [50000 / 60000]\n",
      "loss:0.117561 [60000 / 60000]\n",
      "epoch: 7\n",
      "loss:0.579959 [10000 / 60000]\n",
      "loss:0.380707 [20000 / 60000]\n",
      "loss:0.391237 [30000 / 60000]\n",
      "loss:0.513664 [40000 / 60000]\n",
      "loss:0.228474 [50000 / 60000]\n",
      "loss:0.110788 [60000 / 60000]\n",
      "epoch: 8\n",
      "loss:0.534603 [10000 / 60000]\n",
      "loss:0.369934 [20000 / 60000]\n",
      "loss:0.400251 [30000 / 60000]\n",
      "loss:0.448570 [40000 / 60000]\n",
      "loss:0.218019 [50000 / 60000]\n",
      "loss:0.111521 [60000 / 60000]\n",
      "epoch: 9\n",
      "loss:0.446791 [10000 / 60000]\n",
      "loss:0.369119 [20000 / 60000]\n",
      "loss:0.375148 [30000 / 60000]\n",
      "loss:0.391036 [40000 / 60000]\n",
      "loss:0.236690 [50000 / 60000]\n",
      "loss:0.103295 [60000 / 60000]\n"
     ]
    }
   ],
   "source": [
    "for epoch in range(epochs):\n",
    "    print(f\"epoch: {epoch}\")\n",
    "    for batch, (X, y) in enumerate(train_dataloader):\n",
    "        X, y = X.to(device), y.to(device)\n",
    "        \n",
    "        pred = model(X)\n",
    "        loss = loss_fn(pred, y)\n",
    "        \n",
    "        optimizer.zero_grad()\n",
    "        loss.backward()\n",
    "        optimizer.step()\n",
    "        \n",
    "        if (batch + 1) % 1000 == 0:\n",
    "            print(f\"loss:{loss.item():>7f} [{(batch + 1) * len(X)} / {len(train_dataloader) * batch_size}]\")\n",
    "        "
   ]
  },
  {
   "cell_type": "code",
   "execution_count": 9,
   "metadata": {},
   "outputs": [
    {
     "name": "stdout",
     "output_type": "stream",
     "text": [
      "tensor([[-2.2631, -4.1803, -4.6578, -3.7943, -5.1490,  6.3618, -5.5322,  8.1069,\n",
      "         -0.1875, 11.1112],\n",
      "        [ 1.2946, -2.8515, 12.0808, -1.6228,  8.0839, -6.0687,  3.4614, -6.8658,\n",
      "         -1.4052, -6.4405],\n",
      "        [ 3.2053, 15.9340, -1.7197,  4.5735,  1.5163, -7.4186, -1.6781, -3.4020,\n",
      "         -0.1936, -6.6411],\n",
      "        [ 2.7868, 15.7845, -2.6352,  5.1899,  1.7322, -6.8181, -0.1461, -4.2524,\n",
      "         -2.2463, -5.7485],\n",
      "        [ 3.9787, -3.6048,  3.9978,  1.8335,  2.2683, -4.5877,  6.7304, -5.6646,\n",
      "          0.3744, -6.1273],\n",
      "        [ 3.5717, 13.2587, -1.4811,  2.5705,  1.7948, -6.9847, -1.2324, -3.3845,\n",
      "          0.2552, -5.8385],\n",
      "        [ 0.3963, -1.9360,  8.2299, -1.4462, 10.7798, -5.6929,  4.6630, -6.8843,\n",
      "         -0.6016, -6.0194],\n",
      "        [ 1.6371, -4.3999,  5.8318, -0.7963,  8.4195, -4.6410, 10.1860, -7.4849,\n",
      "         -1.7119, -6.4242],\n",
      "        [-1.7214, -1.9492, -2.7421, -3.6471, -1.4820, 10.1082, -2.9612,  6.3357,\n",
      "          2.1325, -2.6975],\n",
      "        [-3.1537, -2.5504, -3.3071, -2.8063, -3.1258,  3.6771, -3.0632, 11.1832,\n",
      "          1.6619,  0.9205]], grad_fn=<AddmmBackward0>)\n",
      "tensor([9, 2, 1, 1, 6, 1, 4, 6, 5, 7])\n",
      "1.0\n"
     ]
    }
   ],
   "source": [
    "sum_test = 10.0\n",
    "\n",
    "acc = 0\n",
    "for X, y in test_dataloader:\n",
    "    y_pred = model(X)\n",
    "    print(y_pred)\n",
    "    print(y)\n",
    "    acc = (y_pred.argmax(1) == y).sum().item()\n",
    "    break\n",
    "        \n",
    "print(acc / sum_test)"
   ]
  }
 ],
 "metadata": {
  "kernelspec": {
   "display_name": "mlb",
   "language": "python",
   "name": "python3"
  },
  "language_info": {
   "codemirror_mode": {
    "name": "ipython",
    "version": 3
   },
   "file_extension": ".py",
   "mimetype": "text/x-python",
   "name": "python",
   "nbconvert_exporter": "python",
   "pygments_lexer": "ipython3",
   "version": "3.11.5"
  },
  "orig_nbformat": 4
 },
 "nbformat": 4,
 "nbformat_minor": 2
}
