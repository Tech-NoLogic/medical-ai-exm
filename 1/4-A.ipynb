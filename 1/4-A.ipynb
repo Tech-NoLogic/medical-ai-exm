{
 "cells": [
  {
   "cell_type": "markdown",
   "metadata": {},
   "source": [
    "4. Mini-project\n",
    "\n",
    "A"
   ]
  },
  {
   "cell_type": "code",
   "execution_count": 1,
   "metadata": {},
   "outputs": [],
   "source": [
    "import torch as th\n",
    "from torch.utils.data import DataLoader\n",
    "import torchvision\n",
    "import matplotlib.pyplot as plt\n",
    "import numpy as np\n",
    "\n",
    "from model.DNN import DNN"
   ]
  },
  {
   "cell_type": "code",
   "execution_count": 2,
   "metadata": {},
   "outputs": [],
   "source": [
    "train_ds = torchvision.datasets.FashionMNIST(\n",
    "    root = \"data\", download=False, train=True, transform=torchvision.transforms.ToTensor()\n",
    "    )\n",
    "test_ds = torchvision.datasets.FashionMNIST(\n",
    "    root = \"data\", download=False, train=False, transform=torchvision.transforms.ToTensor()\n",
    "    )"
   ]
  },
  {
   "cell_type": "code",
   "execution_count": 3,
   "metadata": {},
   "outputs": [
    {
     "name": "stdout",
     "output_type": "stream",
     "text": [
      "Dataset FashionMNIST\n",
      "    Number of datapoints: 60000\n",
      "    Root location: data\n",
      "    Split: Train\n",
      "    StandardTransform\n",
      "Transform: ToTensor()\n"
     ]
    }
   ],
   "source": [
    "print(train_ds)\n",
    "\n",
    "batch_size = 10\n",
    "\n",
    "train_dataloader = DataLoader(train_ds, batch_size=batch_size)\n",
    "test_dataloader = DataLoader(test_ds, batch_size=batch_size)"
   ]
  },
  {
   "cell_type": "code",
   "execution_count": 4,
   "metadata": {},
   "outputs": [
    {
     "name": "stdout",
     "output_type": "stream",
     "text": [
      "6000\n"
     ]
    }
   ],
   "source": [
    "print(len(train_dataloader))\n",
    "it = iter(train_dataloader)"
   ]
  },
  {
   "cell_type": "code",
   "execution_count": 5,
   "metadata": {},
   "outputs": [
    {
     "name": "stdout",
     "output_type": "stream",
     "text": [
      "<class 'torch.Tensor'> <class 'torch.Tensor'>\n",
      "tensor(9)\n",
      "types: 10\n",
      "b: 10, c: 1, h: 28, w: 28\n"
     ]
    },
    {
     "data": {
      "image/png": "[encoded data removed]",
      "text/plain": [
       "<Figure size 640x480 with 1 Axes>"
      ]
     },
     "metadata": {},
     "output_type": "display_data"
    }
   ],
   "source": [
    "X, y = next(it)\n",
    "print(type(X), type(y))\n",
    "plt.imshow(torchvision.transforms.ToPILImage()(X[0].squeeze()), cmap=\"gray\")\n",
    "print(y[0])\n",
    "\n",
    "types = len(set([i.item() for _, y in train_dataloader for i in y]))\n",
    "print(f\"types: {types}\")\n",
    "\n",
    "b, c, h, w = X.size()\n",
    "print(f\"b: {b}, c: {c}, h: {h}, w: {w}\")"
   ]
  },
  {
   "cell_type": "code",
   "execution_count": 6,
   "metadata": {},
   "outputs": [],
   "source": [
    "model = DNN(c, h, w, types)"
   ]
  },
  {
   "cell_type": "code",
   "execution_count": 7,
   "metadata": {},
   "outputs": [
    {
     "data": {
      "text/plain": [
       "DNN(\n",
       "  (input): Flatten(start_dim=1, end_dim=-1)\n",
       "  (hidden): Sequential(\n",
       "    (0): Linear(in_features=784, out_features=128, bias=True)\n",
       "    (1): ReLU()\n",
       "  )\n",
       "  (output): Linear(in_features=128, out_features=10, bias=True)\n",
       ")"
      ]
     },
     "execution_count": 7,
     "metadata": {},
     "output_type": "execute_result"
    }
   ],
   "source": [
    "device = \"cuda\" if th.cuda.is_available() else \"cpu\"\n",
    "optimizer = th.optim.SGD(model.parameters(), lr=1e-3, momentum=0.9)\n",
    "epochs = 10\n",
    "loss_fn = th.nn.CrossEntropyLoss()\n",
    "\n",
    "model.to(device)"
   ]
  },
  {
   "cell_type": "code",
   "execution_count": 9,
   "metadata": {},
   "outputs": [
    {
     "name": "stdout",
     "output_type": "stream",
     "text": [
      "epoch: 0\n",
      "loss:0.859433 [10000 / 60000]\n",
      "loss:0.446316 [20000 / 60000]\n",
      "loss:0.349547 [30000 / 60000]\n",
      "loss:1.058414 [40000 / 60000]\n",
      "loss:0.659050 [50000 / 60000]\n",
      "loss:0.237487 [60000 / 60000]\n",
      "epoch: 1\n",
      "loss:0.626840 [10000 / 60000]\n",
      "loss:0.392047 [20000 / 60000]\n",
      "loss:0.342995 [30000 / 60000]\n",
      "loss:0.966062 [40000 / 60000]\n",
      "loss:0.613795 [50000 / 60000]\n",
      "loss:0.216081 [60000 / 60000]\n",
      "epoch: 2\n",
      "loss:0.505247 [10000 / 60000]\n",
      "loss:0.362750 [20000 / 60000]\n",
      "loss:0.320300 [30000 / 60000]\n",
      "loss:0.851355 [40000 / 60000]\n",
      "loss:0.564728 [50000 / 60000]\n",
      "loss:0.188331 [60000 / 60000]\n",
      "epoch: 3\n",
      "loss:0.429592 [10000 / 60000]\n",
      "loss:0.330601 [20000 / 60000]\n",
      "loss:0.308366 [30000 / 60000]\n",
      "loss:0.769360 [40000 / 60000]\n",
      "loss:0.546871 [50000 / 60000]\n",
      "loss:0.171855 [60000 / 60000]\n",
      "epoch: 4\n",
      "loss:0.384323 [10000 / 60000]\n",
      "loss:0.280362 [20000 / 60000]\n",
      "loss:0.277047 [30000 / 60000]\n",
      "loss:0.737032 [40000 / 60000]\n",
      "loss:0.524763 [50000 / 60000]\n",
      "loss:0.160436 [60000 / 60000]\n",
      "epoch: 5\n",
      "loss:0.354370 [10000 / 60000]\n",
      "loss:0.244322 [20000 / 60000]\n",
      "loss:0.247765 [30000 / 60000]\n",
      "loss:0.747129 [40000 / 60000]\n",
      "loss:0.516643 [50000 / 60000]\n",
      "loss:0.158421 [60000 / 60000]\n",
      "epoch: 6\n",
      "loss:0.319146 [10000 / 60000]\n",
      "loss:0.226071 [20000 / 60000]\n",
      "loss:0.221387 [30000 / 60000]\n",
      "loss:0.720315 [40000 / 60000]\n",
      "loss:0.516812 [50000 / 60000]\n",
      "loss:0.140331 [60000 / 60000]\n",
      "epoch: 7\n",
      "loss:0.304124 [10000 / 60000]\n",
      "loss:0.218497 [20000 / 60000]\n",
      "loss:0.196748 [30000 / 60000]\n",
      "loss:0.715511 [40000 / 60000]\n",
      "loss:0.488654 [50000 / 60000]\n",
      "loss:0.140951 [60000 / 60000]\n",
      "epoch: 8\n",
      "loss:0.288085 [10000 / 60000]\n",
      "loss:0.208664 [20000 / 60000]\n",
      "loss:0.178871 [30000 / 60000]\n",
      "loss:0.695851 [40000 / 60000]\n",
      "loss:0.465054 [50000 / 60000]\n",
      "loss:0.139929 [60000 / 60000]\n",
      "epoch: 9\n",
      "loss:0.261901 [10000 / 60000]\n",
      "loss:0.211239 [20000 / 60000]\n",
      "loss:0.163574 [30000 / 60000]\n",
      "loss:0.682923 [40000 / 60000]\n",
      "loss:0.433586 [50000 / 60000]\n",
      "loss:0.130937 [60000 / 60000]\n"
     ]
    }
   ],
   "source": [
    "for epoch in range(epochs):\n",
    "    print(f\"epoch: {epoch}\")\n",
    "    for batch, (X, y) in enumerate(train_dataloader):\n",
    "        X, y = X.to(device), y.to(device)\n",
    "        \n",
    "        pred = model(X)\n",
    "        loss = loss_fn(pred, y)\n",
    "        \n",
    "        optimizer.zero_grad()\n",
    "        loss.backward()\n",
    "        optimizer.step()\n",
    "        \n",
    "        if (batch + 1) % 1000 == 0:\n",
    "            print(f\"loss:{loss.item():>7f} [{(batch + 1) * len(X)} / {len(train_dataloader) * batch_size}]\")\n",
    "        "
   ]
  },
  {
   "cell_type": "code",
   "execution_count": 24,
   "metadata": {},
   "outputs": [
    {
     "name": "stdout",
     "output_type": "stream",
     "text": [
      "tensor([[-1.6720e+00, -4.3114e+00, -2.4351e+00, -4.0906e+00, -4.2194e+00,\n",
      "          4.9444e+00, -2.8185e+00,  5.8182e+00,  2.2869e+00,  7.8969e+00],\n",
      "        [ 4.6232e+00, -4.2634e+00,  1.5555e+01, -1.0690e+00,  9.1342e+00,\n",
      "         -8.0150e+00,  8.3397e+00, -1.1474e+01,  3.2847e-01, -1.1315e+01],\n",
      "        [ 5.7963e+00,  1.6662e+01,  1.7438e+00,  3.1484e+00,  2.7942e+00,\n",
      "         -1.0289e+01, -3.2984e+00, -4.7927e+00, -3.8622e-01, -8.2670e+00],\n",
      "        [ 1.8515e+00,  1.3928e+01,  8.6656e-01,  5.1582e+00,  1.9905e+00,\n",
      "         -6.7813e+00, -3.4290e+00, -4.1225e+00, -2.8116e+00, -3.6236e+00],\n",
      "        [ 4.6516e+00, -2.1566e+00,  3.7491e+00,  1.3590e+00,  3.1439e+00,\n",
      "         -5.3848e+00,  6.3396e+00, -6.4044e+00,  1.0193e+00, -5.1581e+00],\n",
      "        [ 6.1401e+00,  1.2825e+01,  2.1380e+00,  2.2516e+00,  2.7437e+00,\n",
      "         -8.6987e+00, -3.5697e-01, -4.8456e+00, -1.2412e+00, -8.5582e+00],\n",
      "        [ 2.2108e+00, -1.8442e+00,  4.6449e+00,  1.1751e+00,  8.6782e+00,\n",
      "         -2.7299e+00,  4.5316e+00, -7.2874e+00,  3.2895e-03, -8.3404e+00],\n",
      "        [ 8.9940e-01, -1.3797e+00,  4.4086e+00,  9.4017e-01,  6.8034e+00,\n",
      "         -3.5706e+00,  9.0435e+00, -7.9911e+00,  9.5186e-01, -7.2316e+00],\n",
      "        [-8.7581e-01, -1.4418e+00, -7.6326e-01,  5.9047e-01, -1.6206e+00,\n",
      "          6.3394e+00, -2.2578e-01,  2.6836e+00, -5.4587e-01, -2.8186e+00],\n",
      "        [-1.9304e+00, -2.9018e+00, -3.1596e+00, -2.6528e+00, -4.5298e+00,\n",
      "          4.0926e+00, -1.9604e+00,  9.6810e+00,  2.9659e+00,  1.7126e+00]],\n",
      "       grad_fn=<AddmmBackward0>)\n",
      "tensor([9, 2, 1, 1, 6, 1, 4, 6, 5, 7])\n",
      "1.0\n"
     ]
    }
   ],
   "source": [
    "sum_test = 10.0\n",
    "\n",
    "acc = 0\n",
    "for X, y in test_dataloader:\n",
    "    y_pred = model(X)\n",
    "    print(y_pred)\n",
    "    print(y)\n",
    "    acc = (y_pred.argmax(1) == y).sum().item()\n",
    "    break\n",
    "        \n",
    "print(acc / sum_test)"
   ]
  }
 ],
 "metadata": {
  "kernelspec": {
   "display_name": "mlb",
   "language": "python",
   "name": "python3"
  },
  "language_info": {
   "codemirror_mode": {
    "name": "ipython",
    "version": 3
   },
   "file_extension": ".py",
   "mimetype": "text/x-python",
   "name": "python",
   "nbconvert_exporter": "python",
   "pygments_lexer": "ipython3",
   "version": "3.11.5"
  },
  "orig_nbformat": 4
 },
 "nbformat": 4,
 "nbformat_minor": 2
}
