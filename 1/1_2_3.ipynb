{
 "cells": [
  {
   "cell_type": "markdown",
   "metadata": {},
   "source": [
    "1. True or False\n",
    "\n",
    "* F\n",
    "* T\n",
    "* F\n",
    "* F\n",
    "* T"
   ]
  },
  {
   "cell_type": "markdown",
   "metadata": {},
   "source": [
    "2. Multiple Choices\n",
    "\n",
    "* B C\n",
    "* A B C\n",
    "* B C D\n",
    "* C D "
   ]
  },
  {
   "cell_type": "markdown",
   "metadata": {},
   "source": [
    "3. Short Answer\n",
    "\n",
    "* High bias. Reduce it.\n",
    "* Reduce bias and increase variance because more complex model will more likely be overfitting rather than underfitting."
   ]
  }
 ],
 "metadata": {
  "kernelspec": {
   "display_name": "mlb",
   "language": "python",
   "name": "python3"
  },
  "language_info": {
   "codemirror_mode": {
    "name": "ipython",
    "version": 3
   },
   "file_extension": ".py",
   "mimetype": "text/x-python",
   "name": "python",
   "nbconvert_exporter": "python",
   "pygments_lexer": "ipython3",
   "version": "3.11.5"
  },
  "orig_nbformat": 4
 },
 "nbformat": 4,
 "nbformat_minor": 2
}
